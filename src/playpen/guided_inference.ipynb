{
 "cells": [
  {
   "cell_type": "code",
   "execution_count": null,
   "metadata": {},
   "outputs": [],
   "source": [
    "from openai import BadRequestError, OpenAI\n",
    "from pydantic import BaseModel\n",
    "\n",
    "client = OpenAI(\n",
    "    base_url=\"http://localhost:8000/v1\",\n",
    "    api_key=\"-\",\n",
    ")\n",
    "\n",
    "simplified_sql_grammar = \"\"\"\n",
    "    ?start: select_statement\n",
    "\n",
    "    ?select_statement: \"SELECT \" column_list \" FROM \" table_name\n",
    "\n",
    "    ?column_list: column_name (\",\" column_name)*\n",
    "\n",
    "    ?table_name: identifier\n",
    "\n",
    "    ?column_name: identifier\n",
    "\n",
    "    ?identifier: /[a-zA-Z_][a-zA-Z0-9_]*/\n",
    "\"\"\"\n",
    "\n",
    "completion = client.chat.completions.create(\n",
    "    model=\"Qwen/Qwen2.5-3B-Instruct\",\n",
    "    messages=[\n",
    "        {\n",
    "            \"role\": \"user\",\n",
    "            \"content\": \"Write some python code\",\n",
    "        }\n",
    "    ],\n",
    "    extra_body={\"guided_grammar\": simplified_sql_grammar},\n",
    ")\n",
    "print(completion.choices[0].message.content)"
   ]
  }
 ],
 "metadata": {
  "language_info": {
   "name": "python"
  }
 },
 "nbformat": 4,
 "nbformat_minor": 2
}
